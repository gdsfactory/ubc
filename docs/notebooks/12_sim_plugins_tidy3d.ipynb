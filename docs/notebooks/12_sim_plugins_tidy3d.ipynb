{
 "cells": [
  {
   "cell_type": "markdown",
   "id": "0",
   "metadata": {},
   "source": [
    "# Circuit simulations (tidy3d + SAX)\n",
    "\n",
    "![](https://i.imgur.com/RSOTDIN.png)\n",
    "\n",
    "Sparameters are common in RF and photonic simulation.\n",
    "\n",
    "We are going to simulate a MZI interferometer circuit.\n",
    "\n",
    "For that we need to simulate each of the component Sparameters in tidy3d and then SAX Sparameter circuit solver to solve the Sparameters for the circuit.\n",
    "\n",
    "We will be using SAX which is open source and tidy3d which requires you to create an account to run simulations in tidy3d cloud.\n"
   ]
  },
  {
   "cell_type": "markdown",
   "id": "1",
   "metadata": {},
   "source": [
    "## tidy3d FDTD simulations\n",
    "\n",
    "Lets compute the Sparameters of a 1x2 power splitter using tidy3d.\n",
    "\n",
    "[tidy3D](https://docs.flexcompute.com/projects/tidy3d/en/latest/) is a fast GPU based FDTD tool developed by flexcompute.\n",
    "\n",
    "To run, you need to [create an account](https://simulation.cloud/) and add credits. The number of credits that each simulation takes depends on the simulation computation time.\n",
    "\n",
    "![cloud_model](https://i.imgur.com/5VTCPLR.png)"
   ]
  },
  {
   "cell_type": "code",
   "execution_count": null,
   "id": "2",
   "metadata": {},
   "outputs": [],
   "source": [
    "import gplugins as sim\n",
    "import gplugins.tidy3d as gt\n",
    "\n",
    "from ubcpdk import PDK, cells\n",
    "from ubcpdk.config import PATH\n",
    "\n",
    "PDK.activate()"
   ]
  },
  {
   "cell_type": "code",
   "execution_count": null,
   "id": "3",
   "metadata": {},
   "outputs": [],
   "source": [
    "c = cells.ebeam_y_1550()\n",
    "c.plot()"
   ]
  },
  {
   "cell_type": "code",
   "execution_count": null,
   "id": "4",
   "metadata": {},
   "outputs": [],
   "source": [
    "sp = gt.write_sparameters(c, filepath=PATH.sparameters / \"ebeam_y_1550_20634f71.npz\")"
   ]
  },
  {
   "cell_type": "code",
   "execution_count": null,
   "id": "5",
   "metadata": {},
   "outputs": [],
   "source": [
    "sim.plot.plot_sparameters(sp)"
   ]
  },
  {
   "cell_type": "code",
   "execution_count": null,
   "id": "6",
   "metadata": {},
   "outputs": [],
   "source": [
    "sim.plot.plot_loss1x2(sp)"
   ]
  },
  {
   "cell_type": "markdown",
   "id": "7",
   "metadata": {},
   "source": [
    "## Circuit simulation\n"
   ]
  },
  {
   "cell_type": "code",
   "execution_count": null,
   "id": "8",
   "metadata": {},
   "outputs": [],
   "source": [
    "mzi10 = cells.mzi_1x1(splitter=c, delta_length=10)\n",
    "mzi10.plot()"
   ]
  },
  {
   "cell_type": "code",
   "execution_count": null,
   "id": "9",
   "metadata": {},
   "outputs": [],
   "source": [
    "import gplugins.sax as gsax\n",
    "import jax.numpy as jnp\n",
    "import matplotlib.pyplot as plt\n",
    "import numpy as np\n",
    "import sax"
   ]
  },
  {
   "cell_type": "code",
   "execution_count": null,
   "id": "10",
   "metadata": {},
   "outputs": [],
   "source": [
    "def straight(wl=1.5, length=10.0, neff=2.4) -> sax.SDict:\n",
    "    return sax.reciprocal({(\"o1\", \"o2\"): jnp.exp(2j * jnp.pi * neff * length / wl)})\n",
    "\n",
    "\n",
    "def bend_euler(wl=1.5, length=20.0):\n",
    "    \"\"\"Assumes a reduced transmission for the euler bend compared to a straight\"\"\"\n",
    "    return {k: 0.99 * v for k, v in straight(wl=wl, length=length).items()}"
   ]
  },
  {
   "cell_type": "code",
   "execution_count": null,
   "id": "11",
   "metadata": {},
   "outputs": [],
   "source": [
    "ebeam_y_1550 = gsax.read.model_from_npz(sp)"
   ]
  },
  {
   "cell_type": "code",
   "execution_count": null,
   "id": "12",
   "metadata": {},
   "outputs": [],
   "source": [
    "netlist = mzi10.get_netlist()\n",
    "circuit, _ = sax.circuit(\n",
    "    netlist=netlist,\n",
    "    models={\n",
    "        \"bend_euler\": bend_euler,\n",
    "        \"ebeam_y_1550\": ebeam_y_1550,\n",
    "        \"straight\": straight,\n",
    "    },\n",
    ")"
   ]
  },
  {
   "cell_type": "code",
   "execution_count": null,
   "id": "13",
   "metadata": {},
   "outputs": [],
   "source": [
    "wl = np.linspace(1.5, 1.6)\n",
    "S = circuit(wl=wl)\n",
    "plt.figure(figsize=(14, 4))\n",
    "plt.title(\"MZI\")\n",
    "plt.plot(1e3 * wl, 10 * np.log10(jnp.abs(S[\"o1\", \"o2\"]) ** 2))\n",
    "plt.xlabel(\"λ [nm]\")\n",
    "plt.ylabel(\"T\")\n",
    "plt.grid(True)\n",
    "plt.show()"
   ]
  },
  {
   "cell_type": "code",
   "execution_count": null,
   "id": "14",
   "metadata": {},
   "outputs": [],
   "source": [
    "mzi20 = cells.mzi_1x1(splitter=c, delta_length=20)\n",
    "mzi20.plot()"
   ]
  },
  {
   "cell_type": "code",
   "execution_count": null,
   "id": "15",
   "metadata": {},
   "outputs": [],
   "source": [
    "netlist = mzi20.get_netlist()\n",
    "circuit, _ = sax.circuit(\n",
    "    netlist=netlist,\n",
    "    models={\n",
    "        \"bend_euler\": bend_euler,\n",
    "        \"ebeam_y_1550\": ebeam_y_1550,\n",
    "        \"straight\": straight,\n",
    "    },\n",
    ")"
   ]
  },
  {
   "cell_type": "code",
   "execution_count": null,
   "id": "16",
   "metadata": {},
   "outputs": [],
   "source": [
    "wl = np.linspace(1.5, 1.6)\n",
    "S = circuit(wl=wl)\n",
    "plt.figure(figsize=(14, 4))\n",
    "plt.title(\"MZI\")\n",
    "plt.plot(1e3 * wl, 10 * np.log10(jnp.abs(S[\"o1\", \"o2\"]) ** 2))\n",
    "plt.xlabel(\"λ [nm]\")\n",
    "plt.ylabel(\"T\")\n",
    "plt.grid(True)\n",
    "plt.show()"
   ]
  },
  {
   "cell_type": "code",
   "execution_count": null,
   "id": "17",
   "metadata": {},
   "outputs": [],
   "source": []
  },
  {
   "cell_type": "code",
   "execution_count": null,
   "id": "18",
   "metadata": {},
   "outputs": [],
   "source": []
  }
 ],
 "metadata": {
  "jupytext": {
   "custom_cell_magics": "kql"
  },
  "kernelspec": {
   "display_name": "base",
   "language": "python",
   "name": "python3"
  },
  "language_info": {
   "codemirror_mode": {
    "name": "ipython",
    "version": 3
   },
   "file_extension": ".py",
   "mimetype": "text/x-python",
   "name": "python",
   "nbconvert_exporter": "python",
   "pygments_lexer": "ipython3",
   "version": "3.12.9"
  }
 },
 "nbformat": 4,
 "nbformat_minor": 5
}
