{
 "cells": [
  {
   "cell_type": "markdown",
   "id": "0",
   "metadata": {},
   "source": [
    "# Layout\n",
    "\n",
    "All UBC ubcpdk.cells are conveniently combined into the ubcpdk.components module."
   ]
  },
  {
   "cell_type": "code",
   "execution_count": null,
   "id": "1",
   "metadata": {},
   "outputs": [],
   "source": [
    "import gdsfactory as gf\n",
    "\n",
    "from ubcpdk import PDK, cells\n",
    "\n",
    "PDK.activate()"
   ]
  },
  {
   "cell_type": "markdown",
   "id": "2",
   "metadata": {},
   "source": [
    "## Fixed Component cells\n",
    "\n",
    "Most `ubcpdk` components are imported from GDS files as fixed cells."
   ]
  },
  {
   "cell_type": "code",
   "execution_count": null,
   "id": "3",
   "metadata": {},
   "outputs": [],
   "source": [
    "c = cells.ebeam_crossing4()\n",
    "c.plot()"
   ]
  },
  {
   "cell_type": "code",
   "execution_count": null,
   "id": "4",
   "metadata": {},
   "outputs": [],
   "source": [
    "c = cells.ebeam_swg_edgecoupler()\n",
    "c.plot()"
   ]
  },
  {
   "cell_type": "code",
   "execution_count": null,
   "id": "5",
   "metadata": {},
   "outputs": [],
   "source": [
    "c = cells.ebeam_bdc_te1550()\n",
    "c.plot()"
   ]
  },
  {
   "cell_type": "code",
   "execution_count": null,
   "id": "6",
   "metadata": {},
   "outputs": [],
   "source": [
    "c = cells.ebeam_adiabatic_te1550()\n",
    "c.plot()"
   ]
  },
  {
   "cell_type": "code",
   "execution_count": null,
   "id": "7",
   "metadata": {},
   "outputs": [],
   "source": [
    "c = cells.ebeam_y_adiabatic()\n",
    "c.plot()"
   ]
  },
  {
   "cell_type": "code",
   "execution_count": null,
   "id": "8",
   "metadata": {},
   "outputs": [],
   "source": [
    "c = cells.ebeam_y_1550()\n",
    "c.plot()"
   ]
  },
  {
   "cell_type": "markdown",
   "id": "9",
   "metadata": {},
   "source": [
    "## Parametric Component PCells\n",
    "\n",
    "You can also define cells adapted from gdsfactory generic pdk."
   ]
  },
  {
   "cell_type": "code",
   "execution_count": null,
   "id": "10",
   "metadata": {},
   "outputs": [],
   "source": [
    "c = cells.straight(length=2)\n",
    "c.plot()"
   ]
  },
  {
   "cell_type": "code",
   "execution_count": null,
   "id": "11",
   "metadata": {},
   "outputs": [],
   "source": [
    "c = cells.bend_euler(radius=5)\n",
    "c.plot()"
   ]
  },
  {
   "cell_type": "code",
   "execution_count": null,
   "id": "12",
   "metadata": {},
   "outputs": [],
   "source": [
    "c = cells.spiral()\n",
    "c.plot()"
   ]
  },
  {
   "cell_type": "code",
   "execution_count": null,
   "id": "13",
   "metadata": {},
   "outputs": [],
   "source": [
    "c = cells.ring_single_heater()\n",
    "c.plot()"
   ]
  },
  {
   "cell_type": "markdown",
   "id": "14",
   "metadata": {},
   "source": [
    "## Components with grating couplers\n",
    "\n",
    "To test your devices you can add grating couplers. Both for single fibers and for fiber arrays."
   ]
  },
  {
   "cell_type": "code",
   "execution_count": null,
   "id": "15",
   "metadata": {},
   "outputs": [],
   "source": [
    "splitter = cells.ebeam_y_1550()\n",
    "mzi = gf.components.mzi(splitter=splitter)\n",
    "mzi.plot()"
   ]
  },
  {
   "cell_type": "code",
   "execution_count": null,
   "id": "16",
   "metadata": {},
   "outputs": [],
   "source": [
    "component_fiber_array = cells.add_fiber_array(component=mzi, fanout_length=5)\n",
    "component_fiber_array.plot()"
   ]
  },
  {
   "cell_type": "code",
   "execution_count": null,
   "id": "17",
   "metadata": {},
   "outputs": [],
   "source": [
    "c = cells.ring_single_heater()\n",
    "c = cells.add_fiber_array_pads_rf(c)\n",
    "c.plot()"
   ]
  },
  {
   "cell_type": "code",
   "execution_count": null,
   "id": "18",
   "metadata": {},
   "outputs": [],
   "source": [
    "c = cells.mzi_heater()\n",
    "c = cells.add_fiber_array_pads_rf(c)\n",
    "c.plot()"
   ]
  },
  {
   "cell_type": "markdown",
   "id": "19",
   "metadata": {},
   "source": [
    "## 3D rendering"
   ]
  },
  {
   "cell_type": "code",
   "execution_count": null,
   "id": "20",
   "metadata": {},
   "outputs": [],
   "source": [
    "scene = c.to_3d()\n",
    "scene.show()"
   ]
  },
  {
   "cell_type": "markdown",
   "id": "21",
   "metadata": {},
   "source": [
    "## Die assembly"
   ]
  },
  {
   "cell_type": "code",
   "execution_count": null,
   "id": "22",
   "metadata": {},
   "outputs": [],
   "source": [
    "from functools import partial\n",
    "\n",
    "import gdsfactory as gf\n",
    "\n",
    "from ubcpdk.tech import LAYER\n",
    "\n",
    "size = (440, 470)\n",
    "add_gc = cells.add_fiber_array\n",
    "\n",
    "\n",
    "@gf.cell\n",
    "def EBeam_JoaquinMatres_1() -> gf.Component:\n",
    "    \"\"\"Add DBR cavities.\"\"\"\n",
    "    e = [add_gc(cells.straight())]\n",
    "    e += [add_gc(cells.mzi(delta_length=dl)) for dl in [9.32, 93.19]]\n",
    "    e += [\n",
    "        add_gc(cells.ring_single(radius=12, gap=gap, length_x=coupling_length))\n",
    "        for gap in [0.2]\n",
    "        for coupling_length in [2.5, 4.5, 6.5]\n",
    "    ]\n",
    "\n",
    "    c = gf.Component()\n",
    "    _ = c << gf.pack(e, max_size=size, spacing=2)[0]\n",
    "    _ = c << gf.components.rectangle(size=size, layer=LAYER.FLOORPLAN)\n",
    "    return c\n",
    "\n",
    "\n",
    "c = EBeam_JoaquinMatres_1()\n",
    "c.show()  # show in klayout\n",
    "c.plot()  # plot in notebook"
   ]
  },
  {
   "cell_type": "code",
   "execution_count": null,
   "id": "23",
   "metadata": {},
   "outputs": [],
   "source": [
    "def EBeam_JoaquinMatres_2() -> gf.Component:\n",
    "    \"\"\"spirals for extracting straight waveguide loss\"\"\"\n",
    "\n",
    "    e = [\n",
    "        cells.add_fiber_array(component=cells.spiral(n_loops=8, length=length))\n",
    "        for length in [0, 100, 200]\n",
    "    ]\n",
    "\n",
    "    c = gf.Component()\n",
    "    _ = c << gf.pack(e, max_size=size, spacing=2)[0]\n",
    "    _ = c << gf.components.rectangle(size=size, layer=LAYER.FLOORPLAN)\n",
    "    return c\n",
    "\n",
    "\n",
    "c = EBeam_JoaquinMatres_2()\n",
    "c.show()  # show in klayout\n",
    "c.plot()  # plot in notebook"
   ]
  },
  {
   "cell_type": "code",
   "execution_count": null,
   "id": "24",
   "metadata": {},
   "outputs": [],
   "source": [
    "def EBeam_JoaquinMatres_3() -> gf.Component:\n",
    "    \"\"\"Contains mirror cavities and structures inside a resonator.\"\"\"\n",
    "    e = []\n",
    "    e += [add_gc(cells.ebeam_crossing4())]\n",
    "    e += [add_gc(cells.ebeam_adiabatic_te1550())]\n",
    "    e += [add_gc(cells.ebeam_bdc_te1550())]\n",
    "    e += [add_gc(cells.ebeam_y_1550())]\n",
    "    e += [add_gc(cells.straight(), component_name=f\"straight_{i}\") for i in range(2)]\n",
    "    c = gf.Component()\n",
    "    _ = c << gf.pack(e, max_size=size, spacing=2)[0]\n",
    "    _ = c << gf.components.rectangle(size=size, layer=LAYER.FLOORPLAN)\n",
    "    return c\n",
    "\n",
    "\n",
    "c = EBeam_JoaquinMatres_3()\n",
    "c.show()  # show in klayout\n",
    "c.plot()  # plot in notebook"
   ]
  },
  {
   "cell_type": "code",
   "execution_count": null,
   "id": "25",
   "metadata": {},
   "outputs": [],
   "source": [
    "def EBeam_JoaquinMatres_4() -> gf.Component:\n",
    "    \"\"\"MZI interferometers.\"\"\"\n",
    "    mzi = partial(gf.components.mzi, splitter=cells.ebeam_y_1550)\n",
    "    mzis = [mzi(delta_length=delta_length) for delta_length in [10, 40]]\n",
    "    mzis_gc = [cells.add_fiber_array(mzi, fanout_length=5) for mzi in mzis]\n",
    "\n",
    "    mzis = [cells.mzi_heater(delta_length=delta_length) for delta_length in [40]]\n",
    "    mzis_heater_gc = [\n",
    "        cells.add_fiber_array_pads_rf(mzi, orientation=90) for mzi in mzis\n",
    "    ]\n",
    "\n",
    "    e = mzis_gc + mzis_heater_gc\n",
    "    c = gf.Component()\n",
    "    _ = c << gf.pack(e, max_size=size, spacing=2)[0]\n",
    "    _ = c << gf.components.rectangle(size=size, layer=LAYER.FLOORPLAN)\n",
    "    return c\n",
    "\n",
    "\n",
    "c = EBeam_JoaquinMatres_4()\n",
    "c.show()  # show in klayout\n",
    "c.plot()  # plot in notebook"
   ]
  },
  {
   "cell_type": "code",
   "execution_count": null,
   "id": "26",
   "metadata": {},
   "outputs": [],
   "source": [
    "def EBeam_JoaquinMatres_5() -> gf.Component:\n",
    "    \"\"\"Ring resonators.\"\"\"\n",
    "\n",
    "    rings = []\n",
    "    for length_x in [4, 6]:\n",
    "        ring = cells.ring_single_heater(length_x=length_x)\n",
    "        ring_gc = cells.add_fiber_array_pads_rf(ring, pad_yspacing=10)\n",
    "        rings.append(ring_gc)\n",
    "\n",
    "    c = gf.Component()\n",
    "    _ = c << gf.pack(rings, max_size=size, spacing=2)[0]\n",
    "    _ = c << gf.components.rectangle(size=size, layer=LAYER.FLOORPLAN)\n",
    "    return c\n",
    "\n",
    "\n",
    "c = EBeam_JoaquinMatres_5()\n",
    "c.show()  # show in klayout\n",
    "c.plot()  # plot in notebook"
   ]
  },
  {
   "cell_type": "code",
   "execution_count": null,
   "id": "27",
   "metadata": {},
   "outputs": [],
   "source": []
  }
 ],
 "metadata": {
  "jupytext": {
   "custom_cell_magics": "kql"
  },
  "kernelspec": {
   "display_name": "base",
   "language": "python",
   "name": "python3"
  },
  "language_info": {
   "codemirror_mode": {
    "name": "ipython",
    "version": 3
   },
   "file_extension": ".py",
   "mimetype": "text/x-python",
   "name": "python",
   "nbconvert_exporter": "python",
   "pygments_lexer": "ipython3",
   "version": "3.12.9"
  }
 },
 "nbformat": 4,
 "nbformat_minor": 5
}
