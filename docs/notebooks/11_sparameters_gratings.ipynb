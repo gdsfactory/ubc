{
 "cells": [
  {
   "cell_type": "markdown",
   "id": "0",
   "metadata": {},
   "source": [
    "# Grating coupler FDTD simulations\n",
    "\n",
    "You can also expand the planar component simulations to simulate an out-of-plane grating coupler.\n",
    "\n",
    "You can run grating coupler simulations in 2D to save time, and for accuracy you can also run them in 3D\n",
    "\n",
    "## tidy3d"
   ]
  },
  {
   "cell_type": "code",
   "execution_count": null,
   "id": "1",
   "metadata": {},
   "outputs": [],
   "source": [
    "import gplugins.tidy3d as gt\n",
    "import matplotlib.pyplot as plt\n",
    "import numpy as np\n",
    "\n",
    "from ubcpdk import PDK, cells\n",
    "from ubcpdk.config import PATH\n",
    "\n",
    "PDK.activate()\n",
    "\n",
    "c = cells.ebeam_gc_te1550()\n",
    "\n",
    "c = c.copy()\n",
    "c.add_port(\n",
    "    name=\"o2\",\n",
    "    center=(-20, 0),\n",
    "    orientation=180,\n",
    "    port_type=\"vertical_te\",\n",
    "    layer=(1, 0),\n",
    "    width=3,\n",
    ")\n",
    "c.draw_ports()\n",
    "c.plot()"
   ]
  },
  {
   "cell_type": "code",
   "execution_count": null,
   "id": "2",
   "metadata": {},
   "outputs": [],
   "source": [
    "fiber_angle_deg = -31\n",
    "s = gt.get_simulation_grating_coupler(\n",
    "    c, is_3d=False, fiber_angle_deg=fiber_angle_deg, fiber_xoffset=0\n",
    ")\n",
    "f = gt.plot_simulation(s)"
   ]
  },
  {
   "cell_type": "code",
   "execution_count": null,
   "id": "3",
   "metadata": {},
   "outputs": [],
   "source": [
    "def log(x):\n",
    "    return 20 * np.log10(x)"
   ]
  },
  {
   "cell_type": "code",
   "execution_count": null,
   "id": "4",
   "metadata": {},
   "outputs": [],
   "source": [
    "sp = gt.write_sparameters_grating_coupler(\n",
    "    c,\n",
    "    is_3d=False,\n",
    "    fiber_angle_deg=fiber_angle_deg,\n",
    "    fiber_xoffset=0,\n",
    "    filepath=PATH.sparameters / \"gc_te1550.npz\",\n",
    ")"
   ]
  },
  {
   "cell_type": "code",
   "execution_count": null,
   "id": "5",
   "metadata": {},
   "outputs": [],
   "source": [
    "offsets = np.arange(-5, 5 + 1, 5)\n",
    "offsets"
   ]
  },
  {
   "cell_type": "code",
   "execution_count": null,
   "id": "6",
   "metadata": {},
   "outputs": [],
   "source": [
    "jobs = [\n",
    "    dict(\n",
    "        component=c,\n",
    "        is_3d=False,\n",
    "        fiber_angle_deg=fiber_angle_deg,\n",
    "        fiber_xoffset=fiber_xoffset,\n",
    "        dirpath=PATH.sparameters,\n",
    "        filepath=PATH.sparameters\n",
    "        / f\"gc_{fiber_angle_deg:.1f}deg_{fiber_xoffset:.1f}um.npz\",\n",
    "    )\n",
    "    for fiber_xoffset in offsets\n",
    "]\n",
    "sps = gt.write_sparameters_grating_coupler_batch(jobs)"
   ]
  },
  {
   "cell_type": "code",
   "execution_count": null,
   "id": "7",
   "metadata": {},
   "outputs": [],
   "source": [
    "sps[0].result()"
   ]
  },
  {
   "cell_type": "code",
   "execution_count": null,
   "id": "8",
   "metadata": {},
   "outputs": [],
   "source": [
    "for fiber_xoffset in offsets:\n",
    "    sp = gt.write_sparameters_grating_coupler(\n",
    "        c,\n",
    "        is_3d=False,\n",
    "        fiber_angle_deg=fiber_angle_deg,\n",
    "        fiber_xoffset=fiber_xoffset,\n",
    "        filepath=PATH.sparameters\n",
    "        / f\"gc_{fiber_angle_deg:.1f}deg_{fiber_xoffset:.1f}um.npz\",\n",
    "    )\n",
    "    plt.plot(\n",
    "        sp[\"wavelengths\"],\n",
    "        20 * np.log10(np.abs(sp[\"o2@0,o1@0\"])),\n",
    "        label=str(fiber_xoffset),\n",
    "    )\n",
    "\n",
    "plt.xlabel(\"wavelength (um\")\n",
    "plt.ylabel(\"Transmission (dB)\")\n",
    "plt.title(\"transmission vs fiber xoffset (um)\")\n",
    "plt.legend()"
   ]
  },
  {
   "cell_type": "code",
   "execution_count": null,
   "id": "9",
   "metadata": {},
   "outputs": [],
   "source": [
    "help(gt.write_sparameters_grating_coupler)"
   ]
  }
 ],
 "metadata": {
  "jupytext": {
   "custom_cell_magics": "kql"
  },
  "kernelspec": {
   "display_name": "base",
   "language": "python",
   "name": "python3"
  },
  "language_info": {
   "codemirror_mode": {
    "name": "ipython",
    "version": 3
   },
   "file_extension": ".py",
   "mimetype": "text/x-python",
   "name": "python",
   "nbconvert_exporter": "python",
   "pygments_lexer": "ipython3",
   "version": "3.12.9"
  }
 },
 "nbformat": 4,
 "nbformat_minor": 5
}
